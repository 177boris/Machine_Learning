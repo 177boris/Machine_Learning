{
 "cells": [
  {
   "cell_type": "code",
   "execution_count": 7,
   "metadata": {},
   "outputs": [
    {
     "name": "stdout",
     "output_type": "stream",
     "text": [
      "         Date  Impressions  From Home  From Hashtags  From Explore  \\\n",
      "0  2021-12-10         3920       2586           1028           619   \n",
      "1  2021-12-11         5394       2727           1838          1174   \n",
      "2  2021-12-12         4021       2085           1188             0   \n",
      "3  2021-12-13         4528       2700            621           932   \n",
      "4  2021-12-14         2518       1704            255           279   \n",
      "\n",
      "   From Other  Saves  Comments  Shares  Likes  Profile Visits  Follows  \\\n",
      "0          56     98         9       5    162              35        2   \n",
      "1          78    194         7      14    224              48       10   \n",
      "2         533     41        11       1    131              62       12   \n",
      "3          73    172        10       7    213              23        8   \n",
      "4          37     96         5       4    123               8        0   \n",
      "\n",
      "   Conversion Rate                                            Caption  \\\n",
      "0         5.714286  Here are some of the most important data visua...   \n",
      "1        20.833333  Here are some of the best data science project...   \n",
      "2        19.354839  Learn how to train a machine learning model an...   \n",
      "3        34.782609  Here’s how you can write a Python program to d...   \n",
      "4         0.000000  Plotting annotations while visualizing your da...   \n",
      "\n",
      "                                            Hashtags  \n",
      "0  #finance #money #business #investing #investme...  \n",
      "1  #healthcare #health #covid #data #datascience ...  \n",
      "2  #data #datascience #dataanalysis #dataanalytic...  \n",
      "3  #python #pythonprogramming #pythonprojects #py...  \n",
      "4  #datavisualization #datascience #data #dataana...  \n",
      "                                             Caption  \\\n",
      "0  Here are some of the most important data visua...   \n",
      "1  Here are some of the best data science project...   \n",
      "2  Learn how to train a machine learning model an...   \n",
      "3  Here’s how you can write a Python program to d...   \n",
      "4  Plotting annotations while visualizing your da...   \n",
      "\n",
      "                                            Hashtags  \n",
      "0  #finance #money #business #investing #investme...  \n",
      "1  #healthcare #health #covid #data #datascience ...  \n",
      "2  #data #datascience #dataanalysis #dataanalytic...  \n",
      "3  #python #pythonprogramming #pythonprojects #py...  \n",
      "4  #datavisualization #datascience #data #dataana...  \n",
      "                                             Caption  \\\n",
      "0  Here are some of the most important data visua...   \n",
      "1  Here are some of the best data science project...   \n",
      "2  Learn how to train a machine learning model an...   \n",
      "3  Here’s how you can write a Python program to d...   \n",
      "4  Plotting annotations while visualizing your da...   \n",
      "\n",
      "                                            Hashtags  \\\n",
      "0  #finance #money #business #investing #investme...   \n",
      "1  #healthcare #health #covid #data #datascience ...   \n",
      "2  #data #datascience #dataanalysis #dataanalytic...   \n",
      "3  #python #pythonprogramming #pythonprojects #py...   \n",
      "4  #datavisualization #datascience #data #dataana...   \n",
      "\n",
      "                                    Recommended Post  \n",
      "0  Here are some of the most important tools that...  \n",
      "1  Here are some of the best data science project...  \n",
      "2  Data Science Use Cases: Here’s how Zomato is u...  \n",
      "3  Here’s how to write a Python function to rever...  \n",
      "4  Practice these 90+ Data Science Projects For B...  \n",
      "\n",
      "Here’s how to write a Python function to reverse a string., To calculate the execution time of the program, we need to calculate the time taken by the program from its initiation to the final result. Here’s how to calculate the execution time of a Python program., Here’s how to calculate execution time of a Python program., Grouping anagrams is one of the popular questions in coding interviews. Here you will be given a list of words, and you have to write an algorithm to group all the words which are anagrams of each other. Here's how to group anagrams using Python.\n"
     ]
    }
   ],
   "source": [
    "import pandas as pd\n",
    "import numpy as np\n",
    "from sklearn.feature_extraction import text\n",
    "from sklearn.metrics.pairwise import cosine_similarity\n",
    "\n",
    "data = pd.read_csv(\"insta_data.csv\")\n",
    "print(data.head())\n",
    "\n",
    "data = data[[\"Caption\", \"Hashtags\"]]\n",
    "print(data.head())\n",
    "\n",
    "\n",
    "# Use cosine similarity in machine learning to find similarities between the captions. \n",
    "# After finding similarities between the posts, \n",
    "# we can recommend them to the user based on the similarities to the post the user just interacted with\n",
    "\n",
    "\n",
    "captions = data[\"Caption\"].tolist()\n",
    "uni_tfidf = text.TfidfVectorizer(input=captions, stop_words=\"english\")\n",
    "uni_matrix = uni_tfidf.fit_transform(captions)\n",
    "uni_sim = cosine_similarity(uni_matrix)\n",
    "\n",
    "def recommend_post(x):\n",
    "  return \", \".join(data[\"Caption\"].loc[x.argsort()[-5:-1]])\n",
    "\n",
    "data[\"Recommended Post\"] = [recommend_post(x) for x in uni_sim]\n",
    "print(data.head())\n",
    "print(\"\")\n",
    "\n",
    "\n",
    "print(data[\"Recommended Post\"][3])"
   ]
  }
 ],
 "metadata": {
  "kernelspec": {
   "display_name": "Python 3.9.6 64-bit",
   "language": "python",
   "name": "python3"
  },
  "language_info": {
   "codemirror_mode": {
    "name": "ipython",
    "version": 3
   },
   "file_extension": ".py",
   "mimetype": "text/x-python",
   "name": "python",
   "nbconvert_exporter": "python",
   "pygments_lexer": "ipython3",
   "version": "3.9.6"
  },
  "orig_nbformat": 4,
  "vscode": {
   "interpreter": {
    "hash": "aee8b7b246df8f9039afb4144a1f6fd8d2ca17a180786b69acc140d282b71a49"
   }
  }
 },
 "nbformat": 4,
 "nbformat_minor": 2
}
